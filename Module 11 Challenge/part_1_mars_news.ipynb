{
 "cells": [
  {
   "cell_type": "markdown",
   "metadata": {},
   "source": [
    "# Module 12 Challenge\n",
    "## Deliverable 1: Scrape Titles and Preview Text from Mars News"
   ]
  },
  {
   "cell_type": "code",
   "execution_count": 1,
   "metadata": {},
   "outputs": [],
   "source": [
    "# Import Splinter and BeautifulSoup\n",
    "from splinter import Browser\n",
    "from bs4 import BeautifulSoup as soup\n",
    "from webdriver_manager.chrome import ChromeDriverManager"
   ]
  },
  {
   "cell_type": "code",
   "execution_count": 2,
   "metadata": {
    "scrolled": true
   },
   "outputs": [
    {
     "name": "stderr",
     "output_type": "stream",
     "text": [
      "[WDM] - Downloading: 100%|█████████████████| 8.84M/8.84M [00:00<00:00, 28.1MB/s]\n"
     ]
    }
   ],
   "source": [
    "executable_path = {'executable_path': ChromeDriverManager().install()}\n",
    "browser = Browser('chrome', **executable_path, headless=False)"
   ]
  },
  {
   "cell_type": "markdown",
   "metadata": {},
   "source": [
    "### Step 1: Visit the Website\n",
    "\n",
    "1. Use automated browsing to visit the [Mars NASA news site](https://redplanetscience.com). Inspect the page to identify which elements to scrape.\n",
    "\n",
    "      > **Hint** To identify which elements to scrape, you might want to inspect the page by using Chrome DevTools."
   ]
  },
  {
   "cell_type": "code",
   "execution_count": 3,
   "metadata": {},
   "outputs": [
    {
     "data": {
      "text/plain": [
       "True"
      ]
     },
     "execution_count": 3,
     "metadata": {},
     "output_type": "execute_result"
    }
   ],
   "source": [
    "# Visit the Mars NASA news site: https://redplanetscience.com\n",
    "url = 'https://redplanetscience.com/'\n",
    "browser.visit(url)\n",
    "# Optional delay for loading the page\n",
    "browser.is_element_present_by_css('div.list_text', wait_time=1)"
   ]
  },
  {
   "cell_type": "markdown",
   "metadata": {},
   "source": [
    "### Step 2: Scrape the Website\n",
    "\n",
    "Create a Beautiful Soup object and use it to extract text elements from the website."
   ]
  },
  {
   "cell_type": "code",
   "execution_count": 10,
   "metadata": {},
   "outputs": [],
   "source": [
    "# Create a Beautiful Soup object\n",
    "html = browser.html\n",
    "mars_news_soup = soup(html, 'html.parser')\n",
    "text_elem = mars_news_soup.find_all(\"div\", class_=\"list_text\")\n",
    "elem_list = []"
   ]
  },
  {
   "cell_type": "markdown",
   "metadata": {},
   "source": [
    "### Step 3: Store the Results\n",
    "\n",
    "Extract the titles and preview text of the news articles that you scraped. Store the scraping results in Python data structures as follows:\n",
    "\n",
    "* Store each title-and-preview pair in a Python dictionary. And, give each dictionary two keys: `title` and `preview`. An example is the following:\n",
    "\n",
    "  ```python\n",
    "  {'title': \"Mars Rover Begins Mission!\", \n",
    "        'preview': \"NASA's Mars Rover begins a multiyear mission to collect data about the little-explored planet.\"}\n",
    "  ```\n",
    "\n",
    "* Store all the dictionaries in a Python list.\n",
    "\n",
    "* Print the list in your notebook."
   ]
  },
  {
   "cell_type": "code",
   "execution_count": 11,
   "metadata": {},
   "outputs": [],
   "source": [
    "# Create an empty list to store the dictionaries\n",
    "# Extract the title and preview text from the elements\n",
    "for elem in text_elem:\n",
    "    title = elem.find('div', class_=\"content_title\")\n",
    "    preview = elem.find('div', class_='article_teaser_body').text \n",
    "    elem_dict = {}\n",
    "    elem_dict[\"title\"] = title\n",
    "    elem_dict[\"preview\"] = preview\n",
    "    elem_list.append(elem_dict)"
   ]
  },
  {
   "cell_type": "code",
   "execution_count": 13,
   "metadata": {},
   "outputs": [
    {
     "data": {
      "text/plain": [
       "[{'title': <div class=\"content_title\">Air Deliveries Bring NASA's Perseverance Mars Rover Closer to Launch</div>,\n",
       "  'preview': \"A NASA Wallops Flight Facility cargo plane transported more than two tons of equipment — including the rover's sample collection tubes — to Florida for this summer's liftoff.\"},\n",
       " {'title': <div class=\"content_title\">NASA Invites Students to Name Mars 2020 Rover</div>,\n",
       "  'preview': \"Through Nov. 1, K-12 students in the U.S. are encouraged to enter an essay contest to name NASA's next Mars rover.\"},\n",
       " {'title': <div class=\"content_title\">Two of a Space Kind: Apollo 12 and Mars 2020</div>,\n",
       "  'preview': 'Apollo 12 and the upcoming Mars 2020 mission may be separated by half a century, but they share several goals unique in the annals of space exploration.'},\n",
       " {'title': <div class=\"content_title\">While Stargazing on Mars, NASA's Curiosity Rover Spots Earth and Venus</div>,\n",
       "  'preview': \"This new portrait of the Red Planet's neighbors was taken during a time when there's more dust in the air on Mars.\"},\n",
       " {'title': <div class=\"content_title\">Newfound Martian Aurora Actually the Most Common; Sheds Light on Mars' Changing Climate</div>,\n",
       "  'preview': 'A type of Martian aurora first identified by NASA’s MAVEN spacecraft in 2016 is actually the most common form of aurora occurring on the Red Planet, according to new results from the mission.'},\n",
       " {'title': <div class=\"content_title\">NASA's Mars Perseverance Rover Gets Its Sample Handling System</div>,\n",
       "  'preview': 'The system will be collecting and storing Martian rock and soil. Its installation marks another milestone in the march toward the July launch period.'},\n",
       " {'title': <div class=\"content_title\">8 Martian Postcards to Celebrate Curiosity's Landing Anniversary</div>,\n",
       "  'preview': 'The NASA rover touched down eight years ago, on Aug. 5, 2012, and will soon be joined by a second rover, Perseverance.'},\n",
       " {'title': <div class=\"content_title\">Space History Is Made in This NASA Robot Factory</div>,\n",
       "  'preview': \"From rockets to rovers, JPL's Spacecraft Assembly Facility has been at the center of robotic spaceflight. Here's a closer look at what makes it so special.\"},\n",
       " {'title': <div class=\"content_title\">NASA's Mars Perseverance Rover Passes Flight Readiness Review</div>,\n",
       "  'preview': \"\\u200bThe agency's Mars 2020 mission has one more big prelaunch review – the Launch Readiness Review, on July 27.\"},\n",
       " {'title': <div class=\"content_title\">How NASA's Perseverance Mars Team Adjusted to Work in the Time of Coronavirus </div>,\n",
       "  'preview': 'Like much of the rest of the world, the Mars rover team is pushing forward with its mission-critical work while putting the health and safety of their colleagues and community first.'},\n",
       " {'title': <div class=\"content_title\">Virginia Middle School Student Earns Honor of Naming NASA's Next Mars Rover</div>,\n",
       "  'preview': 'NASA chose a seventh-grader from Virginia as winner of the agency\\'s \"Name the Rover\" essay contest. Alexander Mather\\'s entry for \"Perseverance\" was voted tops among 28,000 entries. '},\n",
       " {'title': <div class=\"content_title\">Q&amp;A with the Student Who Named Ingenuity, NASA's Mars Helicopter</div>,\n",
       "  'preview': 'As a longtime fan of space exploration, Vaneeza Rupani appreciates the creativity and collaboration involved with trying to fly on another planet.'},\n",
       " {'title': <div class=\"content_title\">The MarCO Mission Comes to an End</div>,\n",
       "  'preview': 'The pair of briefcase-sized satellites made history when they sailed past Mars in 2019.'},\n",
       " {'title': <div class=\"content_title\">NASA's Ingenuity Mars Helicopter Recharges Its Batteries in Flight</div>,\n",
       "  'preview': 'Headed to the Red Planet with the Perseverance rover, the pioneering helicopter is powered up for the first time in interplanetary space as part of a systems check.'},\n",
       " {'title': <div class=\"content_title\">NASA's Perseverance Rover Bringing 3D-Printed Metal Parts to Mars</div>,\n",
       "  'preview': \"For hobbyists and makers, 3D printing expands creative possibilities; for specialized engineers, it's also key to next-generation spacecraft design.\"}]"
      ]
     },
     "execution_count": 13,
     "metadata": {},
     "output_type": "execute_result"
    }
   ],
   "source": [
    "# Print the list to confirm success\n",
    "elem_list"
   ]
  },
  {
   "cell_type": "code",
   "execution_count": 14,
   "metadata": {},
   "outputs": [],
   "source": [
    "browser.quit()"
   ]
  },
  {
   "cell_type": "markdown",
   "metadata": {},
   "source": [
    "### (Optional) Step 4: Export the Data\n",
    "\n",
    "Optionally, store the scraped data in a file or database (to ease sharing the data with others). To do so, export the scraped data to either a JSON file or a MongoDB database."
   ]
  },
  {
   "cell_type": "code",
   "execution_count": null,
   "metadata": {},
   "outputs": [],
   "source": [
    "# Export data to JSON\n"
   ]
  },
  {
   "cell_type": "code",
   "execution_count": null,
   "metadata": {},
   "outputs": [],
   "source": [
    "# Export data to MongoDB\n"
   ]
  }
 ],
 "metadata": {
  "kernelspec": {
   "display_name": "Python 3 (ipykernel)",
   "language": "python",
   "name": "python3"
  },
  "language_info": {
   "codemirror_mode": {
    "name": "ipython",
    "version": 3
   },
   "file_extension": ".py",
   "mimetype": "text/x-python",
   "name": "python",
   "nbconvert_exporter": "python",
   "pygments_lexer": "ipython3",
   "version": "3.9.12"
  }
 },
 "nbformat": 4,
 "nbformat_minor": 4
}
